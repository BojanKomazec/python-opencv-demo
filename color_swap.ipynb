{
 "metadata": {
  "language_info": {
   "codemirror_mode": {
    "name": "ipython",
    "version": 3
   },
   "file_extension": ".py",
   "mimetype": "text/x-python",
   "name": "python",
   "nbconvert_exporter": "python",
   "pygments_lexer": "ipython3",
   "version": "3.6.6-final"
  },
  "orig_nbformat": 2,
  "kernelspec": {
   "name": "python3",
   "display_name": "Python 3.6.6 64-bit ('python_opencv_demo': conda)",
   "metadata": {
    "interpreter": {
     "hash": "0a201dfa57ba2a66877c6341d7ae1c1b7d35f1539402e2844e0c26bc7bd198ab"
    }
   }
  }
 },
 "nbformat": 4,
 "nbformat_minor": 2,
 "cells": [
  {
   "cell_type": "code",
   "execution_count": null,
   "metadata": {},
   "outputs": [],
   "source": [
    "import cv2\n",
    "import matplotlib.pyplot as plt\n",
    "import numpy as np\n",
    "\n",
    "print(f'OpenCV version: {cv2.__version__}')"
   ]
  },
  {
   "cell_type": "code",
   "execution_count": null,
   "metadata": {},
   "outputs": [],
   "source": [
    "def show_img(img):\n",
    "    fig = plt.figure(figsize = (20, 18))\n",
    "    ax = fig.add_subplot(111)\n",
    "    ax.imshow(img)"
   ]
  },
  {
   "cell_type": "code",
   "execution_count": null,
   "metadata": {},
   "outputs": [],
   "source": [
    "img = cv2.imread('./data/OpenCV-CheatSheet.jpeg')\n",
    "print(type(img))\n",
    "print(f'np.shape(img) = {np.shape(img)}')\n",
    "\n",
    "plt.imshow(img)"
   ]
  },
  {
   "cell_type": "code",
   "execution_count": null,
   "metadata": {},
   "outputs": [],
   "source": [
    "color = img[0,0]\n",
    "print(f'color = {color}') \n",
    "# [54 49 40] = [B, G, R]"
   ]
  },
  {
   "cell_type": "code",
   "execution_count": null,
   "metadata": {},
   "outputs": [],
   "source": [
    "cond1 = np.logical_and(img[:,:,0]==color[0], img[:,:,1]==color[1])\n",
    "cond2 = np.logical_and(cond1, img[:,:,2]==color[2])\n",
    "indicesX, indicesY = np.where(cond2)\n",
    "\n",
    "output_img_1 = np.copy(img)\n",
    "output_img_1[indicesX, indicesY, :] = [255, 255, 255]\n",
    "\n",
    "output_img_1 = cv2.cvtColor(output_img_1, cv2.COLOR_BGR2RGB) # OpenCV loaded image in BGR space but matplotlib requires RGB\n",
    "plt.imshow(output_img_1)\n",
    "\n",
    "show_img(output_img_1)"
   ]
  },
  {
   "cell_type": "code",
   "execution_count": null,
   "metadata": {},
   "outputs": [],
   "source": [
    "# output_img_2 = cv2.cvtColor(img, cv2.COLOR_BGR2HSV)\n",
    "# show_img(output_img_2)\n",
    "color_hsv = cv2.cvtColor(np.uint8([[color]]), cv2.COLOR_BGR2HSV)\n",
    "color_hsv\n",
    "\n",
    "# array([[[101,  66,  54]]], dtype=uint8)\n",
    "# Hue = 101 and it determines the colour"
   ]
  },
  {
   "cell_type": "code",
   "execution_count": null,
   "metadata": {},
   "outputs": [],
   "source": [
    "color_hsv[0, 0, 0]"
   ]
  },
  {
   "cell_type": "code",
   "execution_count": null,
   "metadata": {},
   "outputs": [],
   "source": [
    "# Hue range is [0,179], Saturation range is [0,255] and Value range is [0,255]. \n",
    "# to find nearest colours we can do +10 and -10\n",
    "half_range_hue = 2\n",
    "half_range_sat = 40\n",
    "half_range_val = 40\n",
    "\n",
    "color_hsv_lower = np.array([\n",
    "    color_hsv[0, 0, 0] - half_range_hue, \n",
    "    color_hsv[0, 0, 1] - half_range_sat, \n",
    "    color_hsv[0, 0, 2] - half_range_val])\n",
    "print(f'color_hsv_lower = {color_hsv_lower}')\n",
    "\n",
    "color_hsv_upper = np.array([\n",
    "    color_hsv[0, 0, 0] + half_range_hue, \n",
    "    color_hsv[0, 0, 1] + half_range_sat, \n",
    "    color_hsv[0, 0, 2] + half_range_val])\n",
    "print(f'color_hsv_upper = {color_hsv_upper}')\n",
    "\n",
    "img_hsv = cv2.cvtColor(img, cv2.COLOR_BGR2HSV)\n",
    "\n",
    "# for 3D arrays cv2.inRange() returns a 2-D array which matches the size of the input image; the value of each \n",
    "mask_inverse = cv2.inRange(img_hsv, color_hsv_lower, color_hsv_upper)\n",
    "print(f'np.shape(mask_inverse) = {np.shape(mask_inverse)}')\n",
    "print(f'type(mask_inverse) = {type(mask_inverse)}')\n",
    "print(f'type(mask_inverse[0][0]) = {type(mask_inverse[0][0])}')\n",
    "\n",
    "# plt.imshow(cv2.cvtColor(mask_inverse, cv2.COLOR_GRAY2RGB))\n",
    "show_img(cv2.cvtColor(mask_inverse, cv2.COLOR_GRAY2RGB))\n",
    "\n",
    "mask = cv2.bitwise_not(mask_inverse)\n",
    "\n",
    "\n",
    "# convert single channel mask back into 3 channels\n",
    "mask_rgb = cv2.cvtColor(mask, cv2.COLOR_GRAY2RGB)\n",
    "\n",
    "# perform bitwise and on mask to obtain cut-out image that is not blue\n",
    "img_masked = cv2.bitwise_and(img, mask_rgb)\n",
    "\n",
    "# replace the cut-out parts with white\n",
    "img_masked_replace_white = cv2.addWeighted(img_masked, 1, \\\n",
    "                                       cv2.cvtColor(mask_inverse, cv2.COLOR_GRAY2RGB), 1, 0)\n",
    "\n",
    "# plt.imshow(cv2.cvtColor(img_masked_replace_white, cv2.COLOR_BGR2RGB))\n",
    "show_img(img_masked_replace_white)"
   ]
  },
  {
   "cell_type": "code",
   "execution_count": null,
   "metadata": {},
   "outputs": [],
   "source": []
  }
 ]
}